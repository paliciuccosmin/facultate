{
 "cells": [
  {
   "cell_type": "code",
   "execution_count": 1,
   "metadata": {},
   "outputs": [
    {
     "name": "stdout",
     "output_type": "stream",
     "text": [
      "Failed to retrieve or parse https://www.umbrawindowtinting.com: 403 Client Error: Forbidden for url: https://www.umbrawindowtinting.com/\n"
     ]
    }
   ],
   "source": [
    "import pandas as pd\n",
    "import requests\n",
    "import re\n",
    "from commonregex import CommonRegex\n",
    "\n",
    "def extract_address(text):\n",
    "    parser = CommonRegex(text)\n",
    "    print (parser.street_addresses)\n",
    "    return address\n",
    "\n",
    "\n",
    "addresses_df = pd.read_parquet(\"list of company websites.snappy.parquet\")\n",
    "\n",
    "for website in addresses_df['domain']:\n",
    "    url = 'https://www.' + website\n",
    "    try:\n",
    "        response = requests.get(url)\n",
    "        response.raise_for_status() \n",
    "        text = response.pretify()\n",
    "    except Exception as e:\n",
    "        print(f'Failed to retrieve or parse {url}: {e}')\n",
    "        continue\n",
    "\n",
    "    address = extract_address(text)\n",
    "    print() "
   ]
  }
 ],
 "metadata": {
  "kernelspec": {
   "display_name": "Python 3",
   "language": "python",
   "name": "python3"
  },
  "language_info": {
   "codemirror_mode": {
    "name": "ipython",
    "version": 3
   },
   "file_extension": ".py",
   "mimetype": "text/x-python",
   "name": "python",
   "nbconvert_exporter": "python",
   "pygments_lexer": "ipython3",
   "version": "3.12.0"
  }
 },
 "nbformat": 4,
 "nbformat_minor": 2
}
