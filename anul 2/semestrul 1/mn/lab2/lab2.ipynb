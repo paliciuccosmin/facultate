{
 "cells": [
  {
   "cell_type": "markdown",
   "metadata": {},
   "source": [
    "1.a)Lx=b"
   ]
  },
  {
   "cell_type": "code",
   "execution_count": 18,
   "metadata": {},
   "outputs": [
    {
     "name": "stdout",
     "output_type": "stream",
     "text": [
      "[[ 5.77777778]\n",
      " [ 3.5       ]\n",
      " [ 0.80952381]\n",
      " [ 1.92592593]\n",
      " [ 9.        ]\n",
      " [ 0.14991182]\n",
      " [12.19753086]]\n"
     ]
    }
   ],
   "source": [
    "import numpy as np\n",
    "n=7\n",
    "rng=np.random.default_rng()\n",
    "A=np.array(rng.integers(1,40,size=(n,n)))\n",
    "b=np.array(rng.integers(2,70,size=n))\n",
    "x = np.zeros((n,1))\n",
    "L=np.tril(A)\n",
    "for i in range(n):\n",
    "    s=b[i]\n",
    "    for j in range(i-2):\n",
    "        s=s=L[i,j]*x[j]\n",
    "    x[i]=s/L[i,i]\n",
    "print(x)"
   ]
  },
  {
   "cell_type": "markdown",
   "metadata": {},
   "source": [
    "1.b)Ux=b"
   ]
  },
  {
   "cell_type": "code",
   "execution_count": 13,
   "metadata": {},
   "outputs": [
    {
     "name": "stdout",
     "output_type": "stream",
     "text": [
      "[[ 0.625     ]\n",
      " [ 1.92857143]\n",
      " [ 1.10526316]\n",
      " [10.125     ]\n",
      " [ 0.51724138]\n",
      " [ 0.07258065]\n",
      " [ 0.75      ]]\n"
     ]
    }
   ],
   "source": [
    "import numpy as np\n",
    "n=7\n",
    "rng=np.random.default_rng()\n",
    "A=np.array(rng.integers(2,40,size=(n,n)))\n",
    "b=np.array(rng.integers(2,70,size=(n,1)))\n",
    "U=np.triu(A)\n",
    "x = np.zeros((n,1))\n",
    "for i in range(n-1,-1,-1):\n",
    "    s=b[i]\n",
    "    for j in range(i+1,n):\n",
    "        s=s=U[i,j]*x[j]\n",
    "    x[i]=s/U[i,i]\n",
    "print(x)"
   ]
  },
  {
   "cell_type": "markdown",
   "metadata": {},
   "source": [
    "2.G"
   ]
  },
  {
   "cell_type": "code",
   "execution_count": 1,
   "metadata": {},
   "outputs": [
    {
     "name": "stdout",
     "output_type": "stream",
     "text": [
      "-----------A------------\n",
      "[[31 31 26 32  4 23 15]\n",
      " [28  6 13  8 30  3 15]\n",
      " [24 17 16 14 11 34 27]\n",
      " [22 15  8 23 34 34 21]\n",
      " [24 31 34 31 17 38 39]\n",
      " [10 25 23 28 10 38  3]\n",
      " [20  4 21 38 28  3 37]]\n",
      "-----------b------------\n",
      "[27 19 38 27 16 52 58]\n",
      "Solution: [ 1.95613362 -5.8301572   2.44846147  1.79670037 -1.0531866   2.27759348\n",
      " -1.48210552]\n",
      "[[ -1.7097135 ]\n",
      " [-33.89168057]\n",
      " [ 20.63521215]\n",
      " [ 20.74759948]\n",
      " [ -6.92038738]\n",
      " [ -1.89185423]\n",
      " [  0.09324759]]\n"
     ]
    }
   ],
   "source": [
    "import numpy as np\n",
    "n=7\n",
    "rng=np.random.default_rng()\n",
    "A=np.array(rng.integers(2,40,size=(n,n)))\n",
    "b=np.array(rng.integers(2,70,size=n))\n",
    "u=np.zeros((n,n))\n",
    "print('-----------A------------')\n",
    "print(A)\n",
    "print('-----------b------------')\n",
    "print(b)\n",
    "print(\"Solution:\", np.linalg.inv(A)@b)\n",
    "def Utris(U,b):\n",
    "    n = U.shape[0]\n",
    "    x = np.zeros((n,1))\n",
    "    for i in range(n-1,-1, -1):\n",
    "        s = b[i]\n",
    "        for j in range(i+1,n):\n",
    "            s =s - U[i][j]*x[j]\n",
    "        x[i] = s/U[i][i]\n",
    "    return x\n",
    "\n",
    "for k in range(n-1):\n",
    "    for i in range(k+1 , n):\n",
    "        A[i, k]= A[i, k] / A[k, k]   \n",
    "    for i in range(k+1 , n):\n",
    "        for j in range(k + 1, n):\n",
    "            A[i, j] -= A[i, k]*A[k, j]\n",
    "A=np.triu(A)\n",
    "print(Utris(A,b))\n",
    "\n"
   ]
  },
  {
   "cell_type": "markdown",
   "metadata": {},
   "source": [
    "GPP"
   ]
  },
  {
   "cell_type": "code",
   "execution_count": null,
   "metadata": {},
   "outputs": [],
   "source": []
  }
 ],
 "metadata": {
  "kernelspec": {
   "display_name": "Python 3",
   "language": "python",
   "name": "python3"
  },
  "language_info": {
   "codemirror_mode": {
    "name": "ipython",
    "version": 3
   },
   "file_extension": ".py",
   "mimetype": "text/x-python",
   "name": "python",
   "nbconvert_exporter": "python",
   "pygments_lexer": "ipython3",
   "version": "3.12.0"
  }
 },
 "nbformat": 4,
 "nbformat_minor": 2
}
