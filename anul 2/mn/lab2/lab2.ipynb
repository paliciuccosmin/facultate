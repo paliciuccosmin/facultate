{
 "cells": [
  {
   "cell_type": "markdown",
   "metadata": {},
   "source": [
    "1.a)Lx=b"
   ]
  },
  {
   "cell_type": "code",
   "execution_count": 18,
   "metadata": {},
   "outputs": [
    {
     "name": "stdout",
     "output_type": "stream",
     "text": [
      "[[ 5.77777778]\n",
      " [ 3.5       ]\n",
      " [ 0.80952381]\n",
      " [ 1.92592593]\n",
      " [ 9.        ]\n",
      " [ 0.14991182]\n",
      " [12.19753086]]\n"
     ]
    }
   ],
   "source": [
    "import numpy as np\n",
    "n=7\n",
    "rng=np.random.default_rng()\n",
    "A=np.array(rng.integers(1,40,size=(n,n)))\n",
    "b=np.array(rng.integers(2,70,size=n))\n",
    "x = np.zeros((n,1))\n",
    "L=np.tril(A)\n",
    "for i in range(n):\n",
    "    s=b[i]\n",
    "    for j in range(i-2):\n",
    "        s=s=L[i,j]*x[j]\n",
    "    x[i]=s/L[i,i]\n",
    "print(x)"
   ]
  },
  {
   "cell_type": "markdown",
   "metadata": {},
   "source": [
    "1.b)Ux=b"
   ]
  },
  {
   "cell_type": "code",
   "execution_count": 13,
   "metadata": {},
   "outputs": [
    {
     "name": "stdout",
     "output_type": "stream",
     "text": [
      "[[ 0.625     ]\n",
      " [ 1.92857143]\n",
      " [ 1.10526316]\n",
      " [10.125     ]\n",
      " [ 0.51724138]\n",
      " [ 0.07258065]\n",
      " [ 0.75      ]]\n"
     ]
    }
   ],
   "source": [
    "import numpy as np\n",
    "n=7\n",
    "rng=np.random.default_rng()\n",
    "A=np.array(rng.integers(2,40,size=(n,n)))\n",
    "b=np.array(rng.integers(2,70,size=(n,1)))\n",
    "U=np.triu(A)\n",
    "x = np.zeros((n,1))\n",
    "for i in range(n-1,-1,-1):\n",
    "    s=b[i]\n",
    "    for j in range(i+1,n):\n",
    "        s=s=U[i,j]*x[j]\n",
    "    x[i]=s/U[i,i]\n",
    "print(x)"
   ]
  },
  {
   "cell_type": "markdown",
   "metadata": {},
   "source": [
    "2.G"
   ]
  },
  {
   "cell_type": "code",
   "execution_count": 135,
   "metadata": {},
   "outputs": [
    {
     "name": "stdout",
     "output_type": "stream",
     "text": [
      "[[36 28 35 13 39 27 15]\n",
      " [ 0 36 22  4  5 33  8]\n",
      " [ 0  0 16 12 22 23 21]\n",
      " [ 0  0  0 20 14 17  5]\n",
      " [ 0  0  0  0 21 39  4]\n",
      " [ 0  0  0  0  0 14 16]\n",
      " [ 0  0  0  0  0  0  9]]\n",
      "[[ 36  28  35  13  39  27  15]\n",
      " [  0  34  20   3   2  31   7]\n",
      " [  0   0 -11   2  -2  -4   8]\n",
      " [  1   0   1   4 -19  14 -18]\n",
      " [  0   0   2  -1 -33  38 -51]\n",
      " [  0   0   1   0   0  -6   2]\n",
      " [  0   0   1   3  -2  -5 -65]]\n"
     ]
    }
   ],
   "source": [
    "import numpy as np\n",
    "n=7\n",
    "rng=np.random.default_rng()\n",
    "A=np.array(rng.integers(2,40,size=(n,n)))\n",
    "u=np.zeros((n,n))\n",
    "print(np.triu(A))\n",
    "for k in range(n-1):\n",
    "    for i in range(k+1 , n):\n",
    "        A[i, k] = u[i, k] = A[i, k] / A[k, k]   \n",
    "    for i in range(k+1 , n):\n",
    "        for j in range(k + 1, n):\n",
    "            A[i, j] -= u[i, k]*A[k, j]\n",
    "\n",
    "\n",
    "print(A)\n"
   ]
  },
  {
   "cell_type": "markdown",
   "metadata": {},
   "source": [
    "GPP"
   ]
  },
  {
   "cell_type": "code",
   "execution_count": null,
   "metadata": {},
   "outputs": [],
   "source": [
    "import numpy as np\n",
    "n=7\n",
    "rng=np.random.default_rng()\n",
    "A=np.array(rng.integers(2,40,size=(n,n)))\n",
    "u=np.zeros((n,n))\n",
    "for k in range(1,n-1):\n",
    "    "
   ]
  }
 ],
 "metadata": {
  "kernelspec": {
   "display_name": "Python 3",
   "language": "python",
   "name": "python3"
  },
  "language_info": {
   "codemirror_mode": {
    "name": "ipython",
    "version": 3
   },
   "file_extension": ".py",
   "mimetype": "text/x-python",
   "name": "python",
   "nbconvert_exporter": "python",
   "pygments_lexer": "ipython3",
   "version": "3.11.3"
  }
 },
 "nbformat": 4,
 "nbformat_minor": 2
}
