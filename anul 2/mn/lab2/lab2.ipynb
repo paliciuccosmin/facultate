{
 "cells": [
  {
   "cell_type": "markdown",
   "metadata": {},
   "source": [
    "1.a)Lx=b"
   ]
  },
  {
   "cell_type": "code",
   "execution_count": 18,
   "metadata": {},
   "outputs": [
    {
     "name": "stdout",
     "output_type": "stream",
     "text": [
      "[[ 5.77777778]\n",
      " [ 3.5       ]\n",
      " [ 0.80952381]\n",
      " [ 1.92592593]\n",
      " [ 9.        ]\n",
      " [ 0.14991182]\n",
      " [12.19753086]]\n"
     ]
    }
   ],
   "source": [
    "import numpy as np\n",
    "n=7\n",
    "rng=np.random.default_rng()\n",
    "A=np.array(rng.integers(1,40,size=(n,n)))\n",
    "b=np.array(rng.integers(2,70,size=n))\n",
    "x = np.zeros((n,1))\n",
    "L=np.tril(A)\n",
    "for i in range(n):\n",
    "    s=b[i]\n",
    "    for j in range(i-2):\n",
    "        s=s=L[i,j]*x[j]\n",
    "    x[i]=s/L[i,i]\n",
    "print(x)"
   ]
  },
  {
   "cell_type": "markdown",
   "metadata": {},
   "source": [
    "1.b)Ux=b"
   ]
  },
  {
   "cell_type": "code",
   "execution_count": 13,
   "metadata": {},
   "outputs": [
    {
     "name": "stdout",
     "output_type": "stream",
     "text": [
      "[[ 0.625     ]\n",
      " [ 1.92857143]\n",
      " [ 1.10526316]\n",
      " [10.125     ]\n",
      " [ 0.51724138]\n",
      " [ 0.07258065]\n",
      " [ 0.75      ]]\n"
     ]
    }
   ],
   "source": [
    "import numpy as np\n",
    "n=7\n",
    "rng=np.random.default_rng()\n",
    "A=np.array(rng.integers(2,40,size=(n,n)))\n",
    "b=np.array(rng.integers(2,70,size=(n,1)))\n",
    "U=np.triu(A)\n",
    "x = np.zeros((n,1))\n",
    "for i in range(n-1,-1,-1):\n",
    "    s=b[i]\n",
    "    for j in range(i+1,n):\n",
    "        s=s=U[i,j]*x[j]\n",
    "    x[i]=s/U[i,i]\n",
    "print(x)"
   ]
  },
  {
   "cell_type": "markdown",
   "metadata": {},
   "source": [
    "2.G"
   ]
  },
  {
   "cell_type": "code",
   "execution_count": 21,
   "metadata": {},
   "outputs": [
    {
     "name": "stdout",
     "output_type": "stream",
     "text": [
      "-----------A------------\n",
      "[[ 3  5 30 18 37 35 16]\n",
      " [ 3 33 32 29 22 31 38]\n",
      " [28 19  3 17 11 19  4]\n",
      " [ 5 13 30 19 33 33 27]\n",
      " [11  5 11  8 24 30 24]\n",
      " [12 24 10 11 12  7 19]\n",
      " [38  3 12 12 29 24 30]]\n",
      "-----------b------------\n",
      "[38 50 15 53 51 61 37]\n",
      "Solution: [ 0.18042662  3.21138461  0.72035    -4.97186898  1.78696972  0.57015003\n",
      "  0.20073798]\n",
      "[[ 12.73601948]\n",
      " [-18.04283268]\n",
      " [-27.60552444]\n",
      " [ 55.81325597]\n",
      " [ -0.29872289]\n",
      " [ -1.83554889]\n",
      " [ -0.69811321]]\n"
     ]
    }
   ],
   "source": [
    "import numpy as np\n",
    "n=7\n",
    "rng=np.random.default_rng()\n",
    "A=np.array(rng.integers(2,40,size=(n,n)))\n",
    "b=np.array(rng.integers(2,70,size=n))\n",
    "u=np.zeros((n,n))\n",
    "print('-----------A------------')\n",
    "print(A)\n",
    "print('-----------b------------')\n",
    "print(b)\n",
    "print(\"Solution:\", np.linalg.inv(A)@b)\n",
    "def Utris(U,b):\n",
    "    n = U.shape[0]\n",
    "    x = np.zeros((n,1))\n",
    "    for i in range(n-1,-1, -1):\n",
    "        s = b[i]\n",
    "        for j in range(i+1,n):\n",
    "            s =s - U[i][j]*x[j]\n",
    "        x[i] = s/U[i][i]\n",
    "    return x\n",
    "\n",
    "for k in range(n-1):\n",
    "    for i in range(k+1 , n):\n",
    "        A[i, k]= A[i, k] / A[k, k]   \n",
    "    for i in range(k+1 , n):\n",
    "        for j in range(k + 1, n):\n",
    "            A[i, j] -= A[i, k]*A[k, j]\n",
    "A=np.triu(A)\n",
    "print(Utris(A,b))\n",
    "\n"
   ]
  },
  {
   "cell_type": "markdown",
   "metadata": {},
   "source": [
    "GPP"
   ]
  },
  {
   "cell_type": "code",
   "execution_count": null,
   "metadata": {},
   "outputs": [],
   "source": []
  }
 ],
 "metadata": {
  "kernelspec": {
   "display_name": "Python 3",
   "language": "python",
   "name": "python3"
  },
  "language_info": {
   "codemirror_mode": {
    "name": "ipython",
    "version": 3
   },
   "file_extension": ".py",
   "mimetype": "text/x-python",
   "name": "python",
   "nbconvert_exporter": "python",
   "pygments_lexer": "ipython3",
   "version": "3.11.3"
  }
 },
 "nbformat": 4,
 "nbformat_minor": 2
}
