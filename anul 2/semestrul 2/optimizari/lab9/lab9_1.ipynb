{
 "cells": [
  {
   "cell_type": "code",
   "execution_count": 4,
   "metadata": {},
   "outputs": [
    {
     "data": {
      "text/latex": [
       "$$ \\begin{aligned}\n",
       "\\max\\quad & 4 xA + 6 xB\\\\\n",
       "\\text{Subject to} \\quad & 2 xA \\leq 14\\\\\n",
       " & 3 xB \\leq 15\\\\\n",
       " & 4 xA + 3 xB \\leq 36\\\\\n",
       " & xA \\geq 0\\\\\n",
       " & xB \\geq 0\\\\\n",
       " & xA \\in \\mathbb{Z}\\\\\n",
       " & xB \\in \\mathbb{Z}\\\\\n",
       "\\end{aligned} $$"
      ]
     },
     "metadata": {},
     "output_type": "display_data"
    },
    {
     "name": "stdout",
     "output_type": "stream",
     "text": [
      "Running HiGHS 1.7.0 (git hash: 50670fd4c): Copyright (c) 2024 HiGHS under MIT licence terms\n",
      "Coefficient ranges:\n",
      "  Matrix [2e+00, 4e+00]\n",
      "  Cost   [4e+00, 6e+00]\n",
      "  Bound  [0e+00, 0e+00]\n",
      "  RHS    [1e+01, 4e+01]\n",
      "Presolving model\n",
      "1 rows, 2 cols, 2 nonzeros  0s\n",
      "1 rows, 2 cols, 2 nonzeros  0s\n",
      "Objective function is integral with scale 0.5\n",
      "\n",
      "Solving MIP model with:\n",
      "   1 rows\n",
      "   2 cols (0 binary, 2 integer, 0 implied int., 0 continuous)\n",
      "   2 nonzeros\n",
      "\n",
      "        Nodes      |    B&B Tree     |            Objective Bounds              |  Dynamic Constraints |       Work      \n",
      "     Proc. InQueue |  Leaves   Expl. | BestBound       BestSol              Gap |   Cuts   InLp Confl. | LpIters     Time\n",
      "\n",
      "         0       0         0   0.00%   58              -inf                 inf        0      0      0         0     0.0s\n",
      "\n",
      "Solving report\n",
      "  Status            Optimal\n",
      "  Primal bound      50\n",
      "  Dual bound        50\n",
      "  Gap               0% (tolerance: 0.01%)\n",
      "  Solution status   feasible\n",
      "                    50 (objective)\n",
      "                    0 (bound viol.)\n",
      "                    0 (int. viol.)\n",
      "                    0 (row viol.)\n",
      "  Timing            0.00 (total)\n",
      "                    0.00 (presolve)\n",
      "                    0.00 (postsolve)\n",
      "  Nodes             1\n",
      "  LP iterations     1 (total)\n",
      "                    0 (strong br.)\n",
      "                    0 (separation)\n",
      "                    0 (heuristics)\n",
      "Status: OPTIMAL\n",
      "Objective value: 50.0\n",
      "xA: 5\n",
      "xB: 5\n"
     ]
    }
   ],
   "source": [
    "using JuMP\n",
    "using HiGHS\n",
    "IC=Model(HiGHS.Optimizer)\n",
    "@variable(IC,xA>=0,Int)\n",
    "@variable(IC,xB>=0,Int)\n",
    "@objective(IC,Max,4*xA+6*xB)\n",
    "@constraint(IC,2*xA<=14)\n",
    "@constraint(IC,3*xB<=15)\n",
    "@constraint(IC,4*xA+3*xB<=36)\n",
    "print(IC)\n",
    "optimize!(IC)\n",
    "println(\"Status: \", termination_status(IC))\n",
    "if(termination_status(IC)==MOI.OPTIMAL)\n",
    "    println(\"Objective value: \", objective_value(IC))\n",
    "    println(\"xA: \", round(Int,value(xA)))\n",
    "    println(\"xB: \", round(Int,value(xB)))\n",
    "else\n",
    "    println(\"Nu sunt disponibile solutii\")\n",
    "end"
   ]
  }
 ],
 "metadata": {
  "kernelspec": {
   "display_name": "Julia 1.10.2",
   "language": "julia",
   "name": "julia-1.10"
  },
  "language_info": {
   "file_extension": ".jl",
   "mimetype": "application/julia",
   "name": "julia",
   "version": "1.10.2"
  }
 },
 "nbformat": 4,
 "nbformat_minor": 2
}
