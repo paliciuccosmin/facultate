{
 "cells": [
  {
   "cell_type": "code",
   "execution_count": 1,
   "metadata": {},
   "outputs": [],
   "source": [
    "using JuMP\n",
    "using HiGHS"
   ]
  },
  {
   "cell_type": "code",
   "execution_count": 4,
   "metadata": {},
   "outputs": [
    {
     "name": "stdout",
     "output_type": "stream",
     "text": [
      "Running HiGHS 1.7.0 (git hash: 50670fd4c): Copyright (c) 2024 HiGHS under MIT licence terms\n",
      "Coefficient ranges:\n",
      "  Matrix [1e+00, 1e+01]\n",
      "  Cost   [3e+00, 9e+00]\n",
      "  Bound  [0e+00, 0e+00]\n",
      "  RHS    [1e+01, 5e+01]\n",
      "Presolving model\n",
      "5 rows, 10 cols, 50 nonzeros  0s\n",
      "5 rows, 10 cols, 50 nonzeros  0s\n",
      "Presolve : Reductions: rows 5(-0); columns 10(-0); elements 50(-0) - Not reduced\n",
      "Problem not reduced by presolve: solving the LP\n",
      "Using EKK dual simplex solver - serial\n",
      "  Iteration        Objective     Infeasibilities num(sum)\n",
      "          0    -1.5249981132e+01 Ph1: 5(63.625); Du: 10(15.25) 0s\n",
      "          2     2.3045454545e+01 Pr: 0(0) 0s\n",
      "Model   status      : Optimal\n",
      "Simplex   iterations: 2\n",
      "Objective value     :  2.3045454545e+01\n",
      "HiGHS run time      :          0.00\n",
      "Status final: OPTIMAL\n",
      "Valoarea functiei obiectiv: 23.045454545454547\n",
      "Scaun de tip: Ga fost produs in cantitatea: 1.8636363636363633\n",
      "Scaun de tip: Ha fost produs in cantitatea: 2.2272727272727275\n"
     ]
    }
   ],
   "source": [
    "Scaune=[\"A\",\"B\",\"C\",\"D\",\"E\",\"F\",\"G\",\"H\",\"I\",\"J\"]\n",
    "C=length(Scaune)\n",
    "LiniiProductie=[1,2,3,4,5]\n",
    "P=length(LiniiProductie)\n",
    "\n",
    "Profit=[6,5,9,5,6,3,4,7,4,3]\n",
    "Capacitate=[47,19,36,13,46]\n",
    "ResurseFolosite=[\n",
    "6 4 2 3 1 10 2 9 3 5 ;\n",
    "5 6 1 1 7 2 9 1 8 6 ;\n",
    "8 10 7 2 9 6 9 6 5 6 ;\n",
    "8 4 8 10 5 4 1 5 3 5 ;\n",
    "1 4 7 2 4 1 2 3 10 1 ]\n",
    "IC=Model(HiGHS.Optimizer)\n",
    "\n",
    "@variable(IC,x[c=1:C]>=0) #x[c] numarul de scaune produs\n",
    "@objective(IC, Max, sum( Profit[c]*x[c] for c=1:C))\n",
    "\n",
    "@constraint(IC,[p=1:P],sum(ResurseFolosite[p,c]*x[c] for c =1:C) <= Capacitate[p])\n",
    "optimize!(IC)\n",
    "println(\"Status final: $(termination_status(IC))\")\n",
    "\n",
    "if termination_status(IC) == MOI.OPTIMAL\n",
    "    println(\"Valoarea functiei obiectiv: $(objective_value(IC))\")\n",
    "    for c=1:C\n",
    "        if value(x[c])>0.001\n",
    "            println(\"Scaun de tip: \", Scaune[c] , \"a fost produs in cantitatea: \", value(x[c]))\n",
    "        end\n",
    "    end\n",
    "else\n",
    "    println(\"Nicio solutie disponibila\")\n",
    "end\n",
    "\n"
   ]
  }
 ],
 "metadata": {
  "kernelspec": {
   "display_name": "Julia 1.10.2",
   "language": "julia",
   "name": "julia-1.10"
  },
  "language_info": {
   "file_extension": ".jl",
   "mimetype": "application/julia",
   "name": "julia",
   "version": "1.10.2"
  }
 },
 "nbformat": 4,
 "nbformat_minor": 2
}
