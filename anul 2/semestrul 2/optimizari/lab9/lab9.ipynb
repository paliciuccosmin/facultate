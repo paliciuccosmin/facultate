{
 "cells": [
  {
   "cell_type": "code",
   "execution_count": 5,
   "metadata": {},
   "outputs": [],
   "source": [
    "using HiGHS\n",
    "using JuMP"
   ]
  },
  {
   "cell_type": "code",
   "execution_count": 6,
   "metadata": {},
   "outputs": [
    {
     "data": {
      "text/latex": [
       "$$ \\begin{aligned}\n",
       "\\max\\quad & 4 xA + 6 xB\\\\\n",
       "\\text{Subject to} \\quad & 2 xA \\leq 14\\\\\n",
       " & 3 xB \\leq 15\\\\\n",
       " & 4 xA + 3 xB \\leq 36\\\\\n",
       " & xA \\geq 0\\\\\n",
       " & xB \\geq 0\\\\\n",
       "\\end{aligned} $$"
      ]
     },
     "metadata": {},
     "output_type": "display_data"
    },
    {
     "name": "stdout",
     "output_type": "stream",
     "text": [
      "Running HiGHS 1.7.0 (git hash: 50670fd4c): Copyright (c) 2024 HiGHS under MIT licence terms\n",
      "Coefficient ranges:\n",
      "  Matrix [2e+00, 4e+00]\n",
      "  Cost   [4e+00, 6e+00]\n",
      "  Bound  [0e+00, 0e+00]\n",
      "  RHS    [1e+01, 4e+01]\n",
      "Presolving model\n",
      "1 rows, 2 cols, 2 nonzeros  0s\n",
      "1 rows, 2 cols, 2 nonzeros  0s\n",
      "Presolve : Reductions: rows 1(-2); columns 2(-0); elements 2(-2)\n",
      "Solving the presolved LP\n",
      "Using EKK dual simplex solver - serial\n",
      "  Iteration        Objective     Infeasibilities num(sum)\n",
      "          0     0.0000000000e+00 Ph1: 0(0) 0s\n",
      "          1    -5.1000000000e+01 Pr: 0(0) 0s\n",
      "Solving the original LP from the solution after postsolve\n",
      "Model   status      : Optimal\n",
      "Simplex   iterations: 1\n",
      "Objective value     :  5.1000000000e+01\n",
      "HiGHS run time      :          0.00\n",
      "Status: OPTIMAL\n",
      "Valoarea functiei obiectiv: 51.0\n",
      "xA: 5.25\n",
      "xB: 5.0\n"
     ]
    }
   ],
   "source": [
    "IC = Model(HiGHS.Optimizer)\n",
    "@variable(IC,xA>=0)\n",
    "@variable(IC, xB>=0)\n",
    "@objective(IC,Max,4*xA+6*xB)\n",
    "@constraint(IC,2*xA <= 14)\n",
    "@constraint(IC,3*xB <= 15)\n",
    "@constraint(IC,4*xA+3*xB <=36)\n",
    "print(IC)\n",
    "optimize!(IC)\n",
    "println(\"Status: $(termination_status(IC))\")\n",
    "if termination_status(IC) == MOI.OPTIMAL\n",
    "    println(\"Valoarea functiei obiectiv: $(objective_value(IC))\")\n",
    "    println(\"xA: \",value(xA))\n",
    "    println(\"xB: \",value(xB))\n",
    "else\n",
    "    println(\"Nu exista solutii disponibile\")\n",
    "end"
   ]
  }
 ],
 "metadata": {
  "kernelspec": {
   "display_name": "Julia 1.10.2",
   "language": "julia",
   "name": "julia-1.10"
  },
  "language_info": {
   "file_extension": ".jl",
   "mimetype": "application/julia",
   "name": "julia",
   "version": "1.10.2"
  }
 },
 "nbformat": 4,
 "nbformat_minor": 2
}
