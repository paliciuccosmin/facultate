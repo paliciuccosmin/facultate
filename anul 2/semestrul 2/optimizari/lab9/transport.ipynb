{
 "cells": [
  {
   "cell_type": "code",
   "execution_count": 1,
   "metadata": {},
   "outputs": [],
   "source": [
    "using JuMP\n",
    "using HiGHS"
   ]
  },
  {
   "cell_type": "code",
   "execution_count": 2,
   "metadata": {},
   "outputs": [
    {
     "name": "stdout",
     "output_type": "stream",
     "text": [
      "Running HiGHS 1.7.0 (git hash: 50670fd4c): Copyright (c) 2024 HiGHS under MIT licence terms\n",
      "Coefficient ranges:\n",
      "  Matrix [1e+00, 1e+00]\n",
      "  Cost   [2e+01, 6e+01]\n",
      "  Bound  [0e+00, 0e+00]\n",
      "  RHS    [3e+03, 8e+03]\n",
      "Presolving model\n",
      "6 rows, 8 cols, 16 nonzeros  0s\n",
      "6 rows, 8 cols, 16 nonzeros  0s\n",
      "Presolve : Reductions: rows 6(-0); columns 8(-0); elements 16(-0) - Not reduced\n",
      "Problem not reduced by presolve: solving the LP\n",
      "Using EKK dual simplex solver - serial\n",
      "  Iteration        Objective     Infeasibilities num(sum)\n",
      "          0     0.0000000000e+00 Pr: 4(13250) 0s\n",
      "          4     3.4518750000e+05 Pr: 0(0) 0s\n",
      "Model   status      : Optimal\n",
      "Simplex   iterations: 4\n",
      "Objective value     :  3.4518750000e+05\n",
      "HiGHS run time      :          0.00\n",
      "Status final: OPTIMAL\n",
      "Valoarea functiei obiectiv: 345187.5\n",
      "Scaun fabrica P1 la depozit D1: 0.0\n",
      "Scaun fabrica P1 la depozit D2: 3500.0\n",
      "Scaun fabrica P1 la depozit D3: 3500.0\n",
      "Scaun fabrica P1 la depozit D4: 0.0\n",
      "Scaun fabrica P2 la depozit D1: 3250.0\n",
      "Scaun fabrica P2 la depozit D2: 0.0\n",
      "Scaun fabrica P2 la depozit D3: 0.0\n",
      "Scaun fabrica P2 la depozit D4: 3000.0\n"
     ]
    }
   ],
   "source": [
    "#Transport problem\n",
    "factories=[\"P1\",\"P2\"]\n",
    "warehouses=[\"D1\",\"D2\",\"D3\",\"D4\"]\n",
    "\n",
    "CapacitateaFabricii_p = [7500,8500]\n",
    "P_trans=length(CapacitateaFabricii_p)\n",
    "\n",
    "CerereaDepozitului_d =[3250,3500,3500,3000]\n",
    "D_trans=length(CerereaDepozitului_d)\n",
    "\n",
    "F=0.375\n",
    "Dist_pd=[137 92 48 173;\n",
    "54 109 111 85]\n",
    "\n",
    "IC_transport = Model(HiGHS.Optimizer)\n",
    "\n",
    "@variable(IC_transport,x[1:P_trans, 1:D_trans]>=0)\n",
    "@objective(IC_transport, Min, sum(F*Dist_pd[p,d]*x[p,d] for p=1:P_trans,d=1:D_trans))\n",
    "@constraint(IC_transport,[p=1:P_trans], sum(x[p,d] for d=1:D_trans) <= CapacitateaFabricii_p[p])\n",
    "@constraint(IC_transport,[d=1:D_trans], sum(x[p,d] for p=1:P_trans) >= CerereaDepozitului_d[d])\n",
    "\n",
    "optimize!(IC_transport)\n",
    "println(\"Status final: $(termination_status(IC_transport))\")\n",
    "\n",
    "if termination_status(IC_transport) == MOI.OPTIMAL\n",
    "    println(\"Valoarea functiei obiectiv: $(objective_value(IC_transport))\")\n",
    "    for p=1:P_trans \n",
    "        for d=1:D_trans\n",
    "            println(\"Scaun fabrica $(factories[p]) la depozit $(warehouses[d]): $(value(x[p,d]))\")\n",
    "        end\n",
    "    end\n",
    "else\n",
    "    println(\"Nicio solutie disponibila\")\n",
    "end\n"
   ]
  }
 ],
 "metadata": {
  "kernelspec": {
   "display_name": "Julia 1.10.2",
   "language": "julia",
   "name": "julia-1.10"
  },
  "language_info": {
   "file_extension": ".jl",
   "mimetype": "application/julia",
   "name": "julia",
   "version": "1.10.2"
  }
 },
 "nbformat": 4,
 "nbformat_minor": 2
}
