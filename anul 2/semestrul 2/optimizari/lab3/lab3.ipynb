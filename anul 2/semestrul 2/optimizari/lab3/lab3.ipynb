{
 "cells": [
  {
   "cell_type": "code",
   "execution_count": 18,
   "metadata": {},
   "outputs": [
    {
     "data": {
      "text/plain": [
       "Fib (generic function with 1 method)"
      ]
     },
     "execution_count": 18,
     "metadata": {},
     "output_type": "execute_result"
    }
   ],
   "source": [
    "function Fib(n)\n",
    "    if n < 3\n",
    "        return n\n",
    "    else\n",
    "        return Fib(n-1)+Fib(n-2)\n",
    "    end\n",
    "end"
   ]
  },
  {
   "cell_type": "code",
   "execution_count": 19,
   "metadata": {},
   "outputs": [
    {
     "data": {
      "text/plain": [
       "fsearch (generic function with 1 method)"
      ]
     },
     "execution_count": 19,
     "metadata": {},
     "output_type": "execute_result"
    }
   ],
   "source": [
    "function fsearch(a,b,epsilon,nr_max,f)\n",
    "    nr_iteratii = 0\n",
    "    Fn = (b - a) / epsilon\n",
    "    n = 0\n",
    "    while Fib(n) < Fn\n",
    "        n = n + 1\n",
    "    end\n",
    "    lambda = a + (Fib(n - 2) / Fib(n)) * (b - a)\n",
    "    miu = a + (Fib(n - 1) / Fib(n)) * (b - a)\n",
    "    while (abs(b - a) > epsilon && nr_iteratii < nr_max)\n",
    "        nr_iteratii = nr_iteratii + 1\n",
    "        if f(lambda) >= f(miu)\n",
    "            a = lambda\n",
    "            lambda = miu\n",
    "            miu = a + (Fib(n - nr_iteratii - 1) / Fib(n - nr_iteratii)) * (b - a)\n",
    "        else\n",
    "            b = miu\n",
    "            miu = lambda\n",
    "            lambda = a + (Fib(n - nr_iteratii - 2) / Fib(n - nr_iteratii)) * (b - a)\n",
    "        end   \n",
    "    end\n",
    "    return  xmin=(a+b)/2\n",
    "end\n"
   ]
  },
  {
   "cell_type": "code",
   "execution_count": 20,
   "metadata": {},
   "outputs": [
    {
     "name": "stdout",
     "output_type": "stream",
     "text": [
      "0.9946949602122014\n",
      "-1.9999437131056998\n"
     ]
    }
   ],
   "source": [
    "epsilon = 0.01\n",
    "a = 0\n",
    "b = 3\n",
    "\n",
    "nr_maxim = 0\n",
    "Fn = 0;\n",
    "while (Fn < (b - a) / epsilon)\n",
    "    Fn = Fib(nr_maxim)\n",
    "    nr_maxim = nr_maxim + 1\n",
    "    \n",
    "end\n",
    "\n",
    "f(x) = 2*x^2-4*x\n",
    "x_min=fsearch(a,b,epsilon,nr_maxim,f)\n",
    "println(x_min)\n"
   ]
  }
 ],
 "metadata": {
  "kernelspec": {
   "display_name": "Julia 1.10.1",
   "language": "julia",
   "name": "julia-1.10"
  },
  "language_info": {
   "file_extension": ".jl",
   "mimetype": "application/julia",
   "name": "julia",
   "version": "1.10.1"
  }
 },
 "nbformat": 4,
 "nbformat_minor": 2
}
