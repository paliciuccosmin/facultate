{
 "cells": [
  {
   "cell_type": "code",
   "execution_count": 21,
   "metadata": {},
   "outputs": [
    {
     "data": {
      "text/plain": [
       "0.1"
      ]
     },
     "execution_count": 21,
     "metadata": {},
     "output_type": "execute_result"
    }
   ],
   "source": [
    "using ForwardDiff\n",
    "using LinearAlgebra\n",
    "\n",
    "f(x) = 10*(x[2]−x[1]^2)^2 +(x[1]−1)^2\n",
    "#f(x) = (x[1]-3)^4+(x[1]-3*x[2])^2\n",
    "x = [1;0]\n",
    "epsilon = 0.1\n"
   ]
  },
  {
   "cell_type": "code",
   "execution_count": 22,
   "metadata": {},
   "outputs": [
    {
     "data": {
      "text/plain": [
       "positive (generic function with 1 method)"
      ]
     },
     "execution_count": 22,
     "metadata": {},
     "output_type": "execute_result"
    }
   ],
   "source": [
    "function positive(H)\n",
    "    H=H'*H\n",
    "    H=(H+H')/2\n",
    "    println(\"a\")\n",
    "    return H\n",
    "end\n",
    "\n"
   ]
  },
  {
   "cell_type": "code",
   "execution_count": 23,
   "metadata": {},
   "outputs": [
    {
     "name": "stdout",
     "output_type": "stream",
     "text": [
      "[122 -40; -40 20]\n",
      "true\n",
      "Xmin = [1.0, 1.0]\n",
      "f(Xmin) = 0.0\n",
      "Nr pasi: 2\n"
     ]
    }
   ],
   "source": [
    "H = ForwardDiff.hessian(f,x)\n",
    "println(H)\n",
    "println(isposdef(H))\n",
    "if isposdef(H) != true\n",
    "    H = x-> positive(H) \n",
    "    println(H) \n",
    "end\n",
    "\n",
    "H = x -> ForwardDiff.hessian(f,x)\n",
    "nabla = x -> ForwardDiff.gradient(f,x)\n",
    "k = 1\n",
    "while norm(nabla(x))>epsilon\n",
    "    x = x-inv(H(x))*nabla(x)\n",
    "    k = k+1\n",
    "end\n",
    "\n",
    "println(\"Xmin = \",x)\n",
    "println(\"f(Xmin) = \",f(x))\n",
    "println(\"Nr pasi: \",k)"
   ]
  }
 ],
 "metadata": {
  "kernelspec": {
   "display_name": "Julia 1.10.1",
   "language": "julia",
   "name": "julia-1.10"
  },
  "language_info": {
   "file_extension": ".jl",
   "mimetype": "application/julia",
   "name": "julia",
   "version": "1.10.1"
  }
 },
 "nbformat": 4,
 "nbformat_minor": 2
}
