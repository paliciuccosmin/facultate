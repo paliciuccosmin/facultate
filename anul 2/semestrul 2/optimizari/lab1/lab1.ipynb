{
 "cells": [
  {
   "cell_type": "code",
   "execution_count": 1,
   "metadata": {},
   "outputs": [
    {
     "name": "stderr",
     "output_type": "stream",
     "text": [
      "\u001b[32m\u001b[1m    Updating\u001b[22m\u001b[39m registry at `~/.julia/registries/General.toml`\n",
      "\u001b[32m\u001b[1m   Resolving\u001b[22m\u001b[39m package versions...\n",
      "\u001b[32m\u001b[1m   Installed\u001b[22m\u001b[39m Reexport ────────── v1.2.2\n",
      "\u001b[32m\u001b[1m   Installed\u001b[22m\u001b[39m PyPlot ──────────── v2.11.2\n",
      "\u001b[32m\u001b[1m   Installed\u001b[22m\u001b[39m MacroTools ──────── v0.5.13\n",
      "\u001b[32m\u001b[1m   Installed\u001b[22m\u001b[39m ColorTypes ──────── v0.11.5\n",
      "\u001b[32m\u001b[1m   Installed\u001b[22m\u001b[39m LaTeXStrings ────── v1.3.1\n",
      "\u001b[32m\u001b[1m   Installed\u001b[22m\u001b[39m FixedPointNumbers ─ v0.8.4\n",
      "\u001b[32m\u001b[1m   Installed\u001b[22m\u001b[39m PyCall ──────────── v1.96.4\n",
      "\u001b[32m\u001b[1m   Installed\u001b[22m\u001b[39m Colors ──────────── v0.12.10\n",
      "\u001b[32m\u001b[1m    Updating\u001b[22m\u001b[39m `~/.julia/environments/v1.10/Project.toml`\n",
      "  \u001b[90m[d330b81b] \u001b[39m\u001b[92m+ PyPlot v2.11.2\u001b[39m\n",
      "\u001b[32m\u001b[1m    Updating\u001b[22m\u001b[39m `~/.julia/environments/v1.10/Manifest.toml`\n",
      "  \u001b[90m[3da002f7] \u001b[39m\u001b[92m+ ColorTypes v0.11.5\u001b[39m\n",
      "  \u001b[90m[5ae59095] \u001b[39m\u001b[92m+ Colors v0.12.10\u001b[39m\n",
      "  \u001b[90m[53c48c17] \u001b[39m\u001b[92m+ FixedPointNumbers v0.8.4\u001b[39m\n",
      "  \u001b[90m[b964fa9f] \u001b[39m\u001b[92m+ LaTeXStrings v1.3.1\u001b[39m\n",
      "  \u001b[90m[1914dd2f] \u001b[39m\u001b[92m+ MacroTools v0.5.13\u001b[39m\n",
      "  \u001b[90m[438e738f] \u001b[39m\u001b[92m+ PyCall v1.96.4\u001b[39m\n",
      "  \u001b[90m[d330b81b] \u001b[39m\u001b[92m+ PyPlot v2.11.2\u001b[39m\n",
      "  \u001b[90m[189a3867] \u001b[39m\u001b[92m+ Reexport v1.2.2\u001b[39m\n",
      "  \u001b[90m[37e2e46d] \u001b[39m\u001b[92m+ LinearAlgebra\u001b[39m\n",
      "  \u001b[90m[2f01184e] \u001b[39m\u001b[92m+ SparseArrays v1.10.0\u001b[39m\n",
      "  \u001b[90m[10745b16] \u001b[39m\u001b[92m+ Statistics v1.10.0\u001b[39m\n",
      "  \u001b[90m[e66e0078] \u001b[39m\u001b[92m+ CompilerSupportLibraries_jll v1.1.0+0\u001b[39m\n",
      "  \u001b[90m[4536629a] \u001b[39m\u001b[92m+ OpenBLAS_jll v0.3.23+4\u001b[39m\n",
      "  \u001b[90m[bea87d4a] \u001b[39m\u001b[92m+ SuiteSparse_jll v7.2.1+1\u001b[39m\n",
      "  \u001b[90m[8e850b90] \u001b[39m\u001b[92m+ libblastrampoline_jll v5.8.0+1\u001b[39m\n",
      "\u001b[32m\u001b[1m    Building\u001b[22m\u001b[39m PyCall → `~/.julia/scratchspaces/44cfe95a-1eb2-52ea-b672-e2afdf69b78f/9816a3826b0ebf49ab4926e2b18842ad8b5c8f04/build.log`\n",
      "\u001b[32m\u001b[1m   Resolving\u001b[22m\u001b[39m package versions...\n",
      "\u001b[32m\u001b[1m    Updating\u001b[22m\u001b[39m `~/.julia/environments/v1.10/Project.toml`\n",
      "  \u001b[90m[37e2e46d] \u001b[39m\u001b[92m+ LinearAlgebra\u001b[39m\n",
      "\u001b[32m\u001b[1m  No Changes\u001b[22m\u001b[39m to `~/.julia/environments/v1.10/Manifest.toml`\n",
      "\u001b[32m\u001b[1m   Resolving\u001b[22m\u001b[39m package versions...\n",
      "\u001b[32m\u001b[1m   Installed\u001b[22m\u001b[39m InverseFunctions ─ v0.1.13\n",
      "\u001b[32m\u001b[1m   Installed\u001b[22m\u001b[39m CompositionsBase ─ v0.1.2\n",
      "\u001b[32m\u001b[1m   Installed\u001b[22m\u001b[39m CommonSolve ────── v0.2.4\n",
      "\u001b[32m\u001b[1m   Installed\u001b[22m\u001b[39m ConstructionBase ─ v1.5.5\n",
      "\u001b[32m\u001b[1m   Installed\u001b[22m\u001b[39m Accessors ──────── v0.1.36\n",
      "\u001b[32m\u001b[1m   Installed\u001b[22m\u001b[39m Roots ──────────── v2.1.5\n",
      "\u001b[32m\u001b[1m   Installed\u001b[22m\u001b[39m ChainRulesCore ─── v1.23.0\n",
      "\u001b[32m\u001b[1m    Updating\u001b[22m\u001b[39m `~/.julia/environments/v1.10/Project.toml`\n",
      "  \u001b[90m[f2b01f46] \u001b[39m\u001b[92m+ Roots v2.1.5\u001b[39m\n",
      "\u001b[32m\u001b[1m    Updating\u001b[22m\u001b[39m `~/.julia/environments/v1.10/Manifest.toml`\n",
      "  \u001b[90m[7d9f7c33] \u001b[39m\u001b[92m+ Accessors v0.1.36\u001b[39m\n",
      "  \u001b[90m[d360d2e6] \u001b[39m\u001b[92m+ ChainRulesCore v1.23.0\u001b[39m\n",
      "  \u001b[90m[38540f10] \u001b[39m\u001b[92m+ CommonSolve v0.2.4\u001b[39m\n",
      "  \u001b[90m[a33af91c] \u001b[39m\u001b[92m+ CompositionsBase v0.1.2\u001b[39m\n",
      "  \u001b[90m[187b0558] \u001b[39m\u001b[92m+ ConstructionBase v1.5.5\u001b[39m\n",
      "  \u001b[90m[3587e190] \u001b[39m\u001b[92m+ InverseFunctions v0.1.13\u001b[39m\n",
      "  \u001b[90m[f2b01f46] \u001b[39m\u001b[92m+ Roots v2.1.5\u001b[39m\n",
      "\u001b[32m\u001b[1mPrecompiling\u001b[22m\u001b[39m project...\n",
      "\u001b[32m  ✓ \u001b[39m\u001b[90mCommonSolve\u001b[39m\n",
      "\u001b[32m  ✓ \u001b[39m\u001b[90mCompositionsBase\u001b[39m\n",
      "\u001b[32m  ✓ \u001b[39m\u001b[90mConstructionBase\u001b[39m\n",
      "\u001b[32m  ✓ \u001b[39m\u001b[90mInverseFunctions\u001b[39m\n",
      "\u001b[32m  ✓ \u001b[39m\u001b[90mChainRulesCore\u001b[39m\n",
      "\u001b[32m  ✓ \u001b[39m\u001b[90mInverseFunctions → DatesExt\u001b[39m\n",
      "\u001b[32m  ✓ \u001b[39m\u001b[90mChainRulesCore → ChainRulesCoreSparseArraysExt\u001b[39m\n",
      "\u001b[32m  ✓ \u001b[39m\u001b[90mCompositionsBase → CompositionsBaseInverseFunctionsExt\u001b[39m\n",
      "\u001b[32m  ✓ \u001b[39m\u001b[90mAccessors\u001b[39m\n",
      "\u001b[32m  ✓ \u001b[39mRoots\n",
      "  10 dependencies successfully precompiled in 5 seconds. 36 already precompiled. 2 skipped during auto due to previous errors.\n"
     ]
    }
   ],
   "source": [
    "import Pkg\n",
    "Pkg.add(\"PyPlot\")\n",
    "Pkg.add(\"LinearAlgebra\")\n",
    "Pkg.add(\"Roots\")"
   ]
  }
 ],
 "metadata": {
  "kernelspec": {
   "display_name": "Julia 1.10.2",
   "language": "julia",
   "name": "julia-1.10"
  },
  "language_info": {
   "file_extension": ".jl",
   "mimetype": "application/julia",
   "name": "julia",
   "version": "1.10.2"
  }
 },
 "nbformat": 4,
 "nbformat_minor": 2
}
