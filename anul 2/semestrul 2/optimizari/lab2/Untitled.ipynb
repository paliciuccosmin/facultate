{
 "cells": [
  {
   "cell_type": "code",
   "execution_count": 1,
   "id": "0c9d136e-3648-4fee-b047-5f513cfd46af",
   "metadata": {},
   "outputs": [
    {
     "data": {
      "text/plain": [
       "goldSectionSearch (generic function with 1 method)"
      ]
     },
     "execution_count": 1,
     "metadata": {},
     "output_type": "execute_result"
    }
   ],
   "source": [
    "function goldSectionSearch(f,epsilon,a,b)\n",
    "    alfa=(sqrt(5)-1)/2\n",
    "    lambda=a+(1-alfa)*(b-a)\n",
    "    miu=a+alfa*(b-a)\n",
    "    while (abs(b-a)>epsilon)\n",
    "        if f(lambda)>=f(miu)\n",
    "            a = lambda\n",
    "            lambda = miu\n",
    "            miu = a + alfa*(b-a)    \n",
    "        end\n",
    "        if f(lambda)<=f(miu)\n",
    "            b = miu\n",
    "            miu = lambda\n",
    "            lambda = a + (1-alfa)*(b-a)\n",
    "        end\n",
    "    end\n",
    "    return (a+b)/2 end"
   ]
  },
  {
   "cell_type": "code",
   "execution_count": 2,
   "id": "94053f33-0a52-4636-92b4-016ab3f295f1",
   "metadata": {},
   "outputs": [
    {
     "name": "stdout",
     "output_type": "stream",
     "text": [
      "2.0003004617565767\n",
      "-3.9999999097227326"
     ]
    }
   ],
   "source": [
    "f(x)=x^2-4*x\n",
    "epsilon = 0.01\n",
    "a= -3\n",
    "b= 4\n",
    "xmin=goldSectionSearch(f,epsilon,a,b)\n",
    "println(xmin)\n",
    "print(f(xmin))"
   ]
  },
  {
   "cell_type": "code",
   "execution_count": null,
   "id": "1eee9b5a-ef47-4fc6-841f-de337923d508",
   "metadata": {},
   "outputs": [],
   "source": []
  }
 ],
 "metadata": {
  "kernelspec": {
   "display_name": "Julia 1.10.1",
   "language": "julia",
   "name": "julia-1.10"
  },
  "language_info": {
   "file_extension": ".jl",
   "mimetype": "application/julia",
   "name": "julia",
   "version": "1.10.1"
  }
 },
 "nbformat": 4,
 "nbformat_minor": 5
}
