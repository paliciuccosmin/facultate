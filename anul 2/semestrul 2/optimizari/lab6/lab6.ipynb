{
 "cells": [
  {
   "cell_type": "code",
   "execution_count": 1,
   "metadata": {},
   "outputs": [
    {
     "data": {
      "text/plain": [
       "2×2 Matrix{Int64}:\n",
       " 1  0\n",
       " 0  1"
      ]
     },
     "execution_count": 1,
     "metadata": {},
     "output_type": "execute_result"
    }
   ],
   "source": [
    "using ForwardDiff\n",
    "using LinearAlgebra\n",
    "\n",
    "f(x) = x[1]-x[2]+2*x[1]^2+2*x[1]*x[2]+x[2]^2\n",
    "epsilon = 0.01\n",
    "x = [0;0]\n",
    "D = [1 0;0 1]"
   ]
  },
  {
   "cell_type": "code",
   "execution_count": 2,
   "metadata": {},
   "outputs": [
    {
     "data": {
      "text/plain": [
       "goldSectionSearch (generic function with 1 method)"
      ]
     },
     "execution_count": 2,
     "metadata": {},
     "output_type": "execute_result"
    }
   ],
   "source": [
    "function goldSectionSearch(f,epsilon,a,b)\n",
    "    alfa=(sqrt(5)-1)/2\n",
    "    lambda=a+(1-alfa)*(b-a)\n",
    "    miu=a+alfa*(b-a)\n",
    "    while (abs(b-a)>epsilon)\n",
    "        if f(lambda)>=f(miu)\n",
    "            a = lambda\n",
    "            lambda = miu\n",
    "            miu = a + alfa*(b-a)    \n",
    "        end\n",
    "        if f(lambda)<=f(miu)\n",
    "            b = miu\n",
    "            miu = lambda\n",
    "            lambda = a + (1-alfa)*(b-a)\n",
    "        end\n",
    "    end\n",
    "    return (a+b)/2 end"
   ]
  },
  {
   "cell_type": "code",
   "execution_count": 3,
   "metadata": {},
   "outputs": [
    {
     "name": "stdout",
     "output_type": "stream",
     "text": [
      "Iteratia 1\n",
      "Iteratia 2\n",
      "Iteratia 3\n",
      "Punctul de minim este: [-0.9990404879302455, 1.4998159095822394]\n",
      "f(x)= -1.24999847805785\n"
     ]
    }
   ],
   "source": [
    "nabla = x -> ForwardDiff.gradient(f,x)\n",
    "\n",
    "k=1\n",
    "while norm(nabla(x))>epsilon\n",
    "    println(\"Iteratia \",k)\n",
    "    Dk = -D*nabla(x)\n",
    "    fk(lambda) = f(x+lambda*Dk)\n",
    "    lambda_k = goldSectionSearch(fk,0.1,0,1)\n",
    "    p = lambda_k*Dk\n",
    "    q = nabla(x+lambda_k*Dk)-nabla(x)\n",
    "    x = x+lambda_k*Dk\n",
    "    D = D+(p*p')/(p'*q)-(D*q*q'*D)/(q'*D*q)\n",
    "    k=k+1\n",
    "end\n",
    "\n",
    "println(\"Punctul de minim este: \",x)\n",
    "println(\"f(x)= \",f(x))"
   ]
  }
 ],
 "metadata": {
  "kernelspec": {
   "display_name": "Julia 1.10.2",
   "language": "julia",
   "name": "julia-1.10"
  },
  "language_info": {
   "file_extension": ".jl",
   "mimetype": "application/julia",
   "name": "julia",
   "version": "1.10.2"
  }
 },
 "nbformat": 4,
 "nbformat_minor": 2
}
